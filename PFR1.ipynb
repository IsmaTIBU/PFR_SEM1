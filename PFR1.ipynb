{
  "nbformat": 4,
  "nbformat_minor": 0,
  "metadata": {
    "colab": {
      "provenance": [],
      "include_colab_link": true
    },
    "kernelspec": {
      "name": "python3",
      "display_name": "Python 3"
    },
    "language_info": {
      "name": "python"
    }
  },
  "cells": [
    {
      "cell_type": "markdown",
      "metadata": {
        "id": "view-in-github",
        "colab_type": "text"
      },
      "source": [
        "<a href=\"https://colab.research.google.com/github/IsmaTIBU/PFR_SEM1/blob/main/PFR1.ipynb\" target=\"_parent\"><img src=\"https://colab.research.google.com/assets/colab-badge.svg\" alt=\"Open In Colab\"/></a>"
      ]
    },
    {
      "cell_type": "markdown",
      "source": [
        "Entrée : Phrase\n",
        "\n",
        "Sortie : Phrase traduite\n",
        "\n",
        "La fonction “trad_Txt” reçoit une commande par l’utilisateur (chaîne de caractères) pour ensuite pouvoir traduire cette commande en mots clés (chaîne de caractères) que nous utiliserons comme commandes en langage C pour le déplacement du robot."
      ],
      "metadata": {
        "id": "2y3LZbibecS6"
      }
    },
    {
      "cell_type": "code",
      "source": [
        "%%writefile txt.h\n",
        "#include \"stdio.h\"\n",
        "#include \"string.h\"\n",
        "#include \"stdlib.h\"\n",
        "\n",
        "double convertDouble(char *str);\n",
        "void afficher_Action(char *phrase);\n",
        "void afficher_Parametre(char *mots[], int compt);"
      ],
      "metadata": {
        "colab": {
          "base_uri": "https://localhost:8080/"
        },
        "id": "49KObYH8AUNG",
        "outputId": "41044440-1316-4d11-bf29-0bcdee8ac156"
      },
      "execution_count": null,
      "outputs": [
        {
          "output_type": "stream",
          "name": "stdout",
          "text": [
            "Overwriting txt.h\n"
          ]
        }
      ]
    },
    {
      "cell_type": "code",
      "source": [
        "from google.colab import files\n",
        "files.view(\"txt.h\")"
      ],
      "metadata": {
        "colab": {
          "base_uri": "https://localhost:8080/",
          "height": 17
        },
        "id": "3exsVjVZFZn6",
        "outputId": "5226f2ed-740e-4e39-85c7-a8b27a4cc191"
      },
      "execution_count": null,
      "outputs": [
        {
          "output_type": "display_data",
          "data": {
            "text/plain": [
              "<IPython.core.display.Javascript object>"
            ],
            "application/javascript": [
              "\n",
              "      ((filepath) => {{\n",
              "        if (!google.colab.kernel.accessAllowed) {{\n",
              "          return;\n",
              "        }}\n",
              "        google.colab.files.view(filepath);\n",
              "      }})(\"/content/txt.h\")"
            ]
          },
          "metadata": {}
        }
      ]
    },
    {
      "cell_type": "code",
      "source": [
        "%%writefile txt.c\n",
        "\n",
        "#include \"txt.h\"\n",
        "#include \"stdio.h\"\n",
        "#include \"string.h\"\n",
        "#include \"stdlib.h\"\n",
        "\n",
        "double convertDouble(char *str){\n",
        "    char *temp;\n",
        "    double val = strtod(str, &temp);\n",
        "    return val;\n",
        "}\n",
        "\n",
        "void afficher_Action(char *phrase){\n",
        "    char ponctuation[] = \" ,.!?\";\n",
        "    char *mot;\n",
        "    char *mots[20];\n",
        "    char *action = NULL;\n",
        "    int compt = 0;\n",
        "\n",
        "    mot = strtok(phrase, ponctuation);\n",
        "    while (mot != NULL && compt < 20) {\n",
        "        mots[compt] = mot;\n",
        "        compt++;\n",
        "\n",
        "        if (compt == 1) {\n",
        "            if (strcmp(mot, \"Avancer\") == 0 || strcmp(mot, \"Avance\") == 0 || strcmp(mot, \"Reculer\") == 0 ||strcmp(mot, \"Recule\") == 0 || strcmp(mot, \"Tourner\") == 0 || strcmp(mot, \"Tourne\") == 0 || strcmp(mot, \"Localiser\") == 0 || strcmp(mot, \"Localise\") == 0)\n",
        "                action = mot;\n",
        "        }\n",
        "        mot = strtok(NULL, ponctuation);\n",
        "    }\n",
        "\n",
        "    if (action != NULL) {\n",
        "        printf(\"\\nAction: %s\", action);\n",
        "    } else {\n",
        "        printf(\"\\nNo action found\");\n",
        "    }\n",
        "    printf(\"\\n\");\n",
        "}\n",
        "\n",
        "void afficher_Parametre(char *mots[], int compt){\n",
        "    char param1[100];\n",
        "    char param2[100];\n",
        "    int i;\n",
        "    double result;\n",
        "\n",
        "      for (int i = 1; i < compt; i++) {\n",
        "        double mesure = convertDouble(mots[i - 1]);\n",
        "\n",
        "        if (strcmp(mots[i], \"metres\") == 0 || strcmp(mots[i], \"centimetres\") == 0 || strcmp(mots[i], \"millimetres\") == 0) {\n",
        "            result = convertDouble(mots[i - 1]);\n",
        "            if (strcmp(mots[i], \"centimetres\") == 0) {\n",
        "                result *= 0.01;\n",
        "            } else if (strcmp(mots[i], \"millimetres\") == 0) {\n",
        "                result *= 0.001;\n",
        "            }\n",
        "            sprintf(param2, \"%.3f metres \", result);\n",
        "        }\n",
        "\n",
        "        if (strcmp(mots[i], \"boule\") == 0 || strcmp(mots[i], \"balle\") == 0 || strcmp(mots[i], \"carré\") == 0 || strcmp(mots[i], \"cube\") == 0) {\n",
        "\n",
        "            // Vérifier s'il y a un mot suivant pour la couleur.\n",
        "            if (i + 1 < compt) {\n",
        "                sprintf(param2, \"%s %s \", mots[i], mots[i + 1]);\n",
        "                i++;\n",
        "            } else {\n",
        "                sprintf(param2, \"%s \", mots[i]);\n",
        "            }\n",
        "        }\n",
        "\n",
        "        if(strcmp(mots[i], \"degrés\") == 0) {\n",
        "            result=mesure;\n",
        "            sprintf(param2, \"%.0f %s\", result, mots[i]);\n",
        "        }\n",
        "\n",
        "        if(strcmp(mots[i],\"droite\") == 0) {\n",
        "            result = 90;\n",
        "            sprintf(param1, \"%.0f degrés\", result);\n",
        "        }\n",
        "        else if(strcmp(mots[i],\"gauche\") == 0){\n",
        "            result = -90;\n",
        "            sprintf(param1, \"%.0f degrés\", result);\n",
        "        }\n",
        "\n",
        "        if (strcmp(mots[i], \"jusqu'à\") == 0 || strcmp(mots[i], \"jusqu'au\") == 0) {\n",
        "            if (i + 2 < compt) {                                        // Vérifier s'il y a deux mots suivants pour la description de l'objet.\n",
        "                sprintf(param2, \"%s %s\", mots[i + 1], mots[i + 2]);\n",
        "            }\n",
        "        }\n",
        "    }\n",
        "    printf(\"Premier parametre: %s\\n\",param1);\n",
        "    printf(\"Deuxième parametre: %s\", param2);\n",
        "}"
      ],
      "metadata": {
        "colab": {
          "base_uri": "https://localhost:8080/"
        },
        "id": "-K3kM1y5BEJ4",
        "outputId": "043becc8-9920-4252-edd9-9f22c383528c"
      },
      "execution_count": null,
      "outputs": [
        {
          "output_type": "stream",
          "name": "stdout",
          "text": [
            "Overwriting txt.c\n"
          ]
        }
      ]
    },
    {
      "cell_type": "code",
      "source": [
        "from google.colab import files\n",
        "files.view(\"txt.c\")"
      ],
      "metadata": {
        "colab": {
          "base_uri": "https://localhost:8080/",
          "height": 17
        },
        "id": "UeitjlUJFXhP",
        "outputId": "e170411f-d4a0-4a6d-91e0-e4252c082ac8"
      },
      "execution_count": null,
      "outputs": [
        {
          "output_type": "display_data",
          "data": {
            "text/plain": [
              "<IPython.core.display.Javascript object>"
            ],
            "application/javascript": [
              "\n",
              "      ((filepath) => {{\n",
              "        if (!google.colab.kernel.accessAllowed) {{\n",
              "          return;\n",
              "        }}\n",
              "        google.colab.files.view(filepath);\n",
              "      }})(\"/content/txt.c\")"
            ]
          },
          "metadata": {}
        }
      ]
    },
    {
      "cell_type": "code",
      "source": [
        "%%writefile main.c\n",
        "\n",
        "#include \"txt.h\"\n",
        "#include \"stdio.h\"\n",
        "#include \"string.h\"\n",
        "#include \"stdlib.h\"\n",
        "\n",
        "int main() {\n",
        "    char phrase[100] = \"Tourner à droite jusqu'à trouver la balle rouge\";\n",
        "    char phraseCopy[100];                                                       // Copie de la phrase pour strtok\n",
        "    char *mots[20];\n",
        "    int compt = 0;\n",
        "\n",
        "    strncpy(phraseCopy, phrase, sizeof(phraseCopy));\n",
        "    phraseCopy[sizeof(phraseCopy) - 1] = '\\0';\n",
        "\n",
        "    afficher_Action(phrase);                                                    // Appel de la fonction afficher_Action avec la phrase originale\n",
        "\n",
        "\n",
        "    char ponctuation[] = \" ,.!?\";\n",
        "    char *mot = strtok(phraseCopy, ponctuation);\n",
        "    while (mot != NULL && compt < 20) {\n",
        "        mots[compt++] = mot;\n",
        "        mot = strtok(NULL, ponctuation);\n",
        "    }\n",
        "\n",
        "    afficher_Parametre(mots, compt);\n",
        "\n",
        "    return 0;\n",
        "}"
      ],
      "metadata": {
        "colab": {
          "base_uri": "https://localhost:8080/"
        },
        "id": "kQcZc0JQDTaP",
        "outputId": "7dba16bf-b632-45f1-b058-bf110bdf3ff1"
      },
      "execution_count": null,
      "outputs": [
        {
          "output_type": "stream",
          "name": "stdout",
          "text": [
            "Overwriting main.c\n"
          ]
        }
      ]
    },
    {
      "cell_type": "code",
      "source": [
        "from google.colab import files\n",
        "files.view(\"main.c\")"
      ],
      "metadata": {
        "colab": {
          "base_uri": "https://localhost:8080/",
          "height": 17
        },
        "id": "MY0fuKlhG09_",
        "outputId": "04d0de12-73df-48dd-b43f-c808441ec9f5"
      },
      "execution_count": null,
      "outputs": [
        {
          "output_type": "display_data",
          "data": {
            "text/plain": [
              "<IPython.core.display.Javascript object>"
            ],
            "application/javascript": [
              "\n",
              "      ((filepath) => {{\n",
              "        if (!google.colab.kernel.accessAllowed) {{\n",
              "          return;\n",
              "        }}\n",
              "        google.colab.files.view(filepath);\n",
              "      }})(\"/content/main.c\")"
            ]
          },
          "metadata": {}
        }
      ]
    },
    {
      "cell_type": "code",
      "source": [
        "%%writefile Makefile\n",
        "\n",
        "all:main\n",
        "\n",
        "main: txt.o main.o\n",
        "\tgcc -o main txt.o main.o\n",
        "\n",
        "txt.o: txt.c txt.h\n",
        "\tgcc -c txt.c\n",
        "\n",
        "main.o: main.c txt.h\n",
        "\tgcc -c main.c\n",
        "\n",
        "clean:\n",
        "\trm -f *.o main"
      ],
      "metadata": {
        "colab": {
          "base_uri": "https://localhost:8080/"
        },
        "id": "w1FNjACSEwcp",
        "outputId": "f2acd6fb-892e-4d87-832e-d6f9a828f6bb"
      },
      "execution_count": null,
      "outputs": [
        {
          "output_type": "stream",
          "name": "stdout",
          "text": [
            "Overwriting Makefile\n"
          ]
        }
      ]
    },
    {
      "cell_type": "code",
      "source": [
        "from google.colab import files\n",
        "files.view(\"Makefile\")"
      ],
      "metadata": {
        "colab": {
          "base_uri": "https://localhost:8080/",
          "height": 17
        },
        "id": "89GT4VR3G3Du",
        "outputId": "8ca3ee5c-e7f7-4c61-e351-361a9cb318cb"
      },
      "execution_count": null,
      "outputs": [
        {
          "output_type": "display_data",
          "data": {
            "text/plain": [
              "<IPython.core.display.Javascript object>"
            ],
            "application/javascript": [
              "\n",
              "      ((filepath) => {{\n",
              "        if (!google.colab.kernel.accessAllowed) {{\n",
              "          return;\n",
              "        }}\n",
              "        google.colab.files.view(filepath);\n",
              "      }})(\"/content/Makefile\")"
            ]
          },
          "metadata": {}
        }
      ]
    },
    {
      "cell_type": "code",
      "source": [
        "%%shell\n",
        "\n",
        "make main\n",
        "./main"
      ],
      "metadata": {
        "colab": {
          "base_uri": "https://localhost:8080/"
        },
        "id": "e8G-uDpGHB7V",
        "outputId": "a2e1cf49-e5d6-4c13-8f2d-65b92d69fcce"
      },
      "execution_count": null,
      "outputs": [
        {
          "output_type": "stream",
          "name": "stdout",
          "text": [
            "gcc -c txt.c\n",
            "gcc -c main.c\n",
            "gcc -o main txt.o main.o\n",
            "\n",
            "Action: Tourner\n",
            "Premier parametre: 90 degrés\n",
            "Deuxième parametre: balle rouge "
          ]
        },
        {
          "output_type": "execute_result",
          "data": {
            "text/plain": []
          },
          "metadata": {},
          "execution_count": 36
        }
      ]
    }
  ]
}